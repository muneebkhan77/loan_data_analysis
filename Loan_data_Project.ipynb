{
 "cells": [
  {
   "cell_type": "code",
   "execution_count": 1,
   "id": "e17e487e",
   "metadata": {},
   "outputs": [],
   "source": [
    "import numpy as np"
   ]
  },
  {
   "cell_type": "code",
   "execution_count": 2,
   "id": "c7058a32",
   "metadata": {},
   "outputs": [],
   "source": [
    "np.set_printoptions(suppress=True, linewidth=100, precision=2)"
   ]
  },
  {
   "cell_type": "code",
   "execution_count": 3,
   "id": "35211312",
   "metadata": {},
   "outputs": [],
   "source": [
    "raw_data_np=np.genfromtxt(\"loan-data.csv\", delimiter=\";\", skip_header=1, autostrip=True)"
   ]
  },
  {
   "cell_type": "code",
   "execution_count": 4,
   "id": "c5dd3f0e",
   "metadata": {},
   "outputs": [
    {
     "data": {
      "text/plain": [
       "array([[48010226.  ,         nan,    35000.  , ...,         nan,         nan,     9452.96],\n",
       "       [57693261.  ,         nan,    30000.  , ...,         nan,         nan,     4679.7 ],\n",
       "       [59432726.  ,         nan,    15000.  , ...,         nan,         nan,     1969.83],\n",
       "       ...,\n",
       "       [50415990.  ,         nan,    10000.  , ...,         nan,         nan,     2185.64],\n",
       "       [46154151.  ,         nan,         nan, ...,         nan,         nan,     3199.4 ],\n",
       "       [66055249.  ,         nan,    10000.  , ...,         nan,         nan,      301.9 ]])"
      ]
     },
     "execution_count": 4,
     "metadata": {},
     "output_type": "execute_result"
    }
   ],
   "source": [
    "raw_data_np"
   ]
  },
  {
   "cell_type": "code",
   "execution_count": 5,
   "id": "14b11776",
   "metadata": {},
   "outputs": [
    {
     "data": {
      "text/plain": [
       "88005"
      ]
     },
     "execution_count": 5,
     "metadata": {},
     "output_type": "execute_result"
    }
   ],
   "source": [
    "np.isnan(raw_data_np).sum()"
   ]
  },
  {
   "cell_type": "code",
   "execution_count": 6,
   "id": "56c45ee8",
   "metadata": {},
   "outputs": [
    {
     "name": "stderr",
     "output_type": "stream",
     "text": [
      "C:\\Users\\ac\\AppData\\Local\\Temp/ipykernel_8636/2607916835.py:2: RuntimeWarning: Mean of empty slice\n",
      "  temporary_mean=np.nanmean(raw_data_np, axis=0)\n"
     ]
    }
   ],
   "source": [
    "temporary_fill=np.nanmax(raw_data_np)+1\n",
    "temporary_mean=np.nanmean(raw_data_np, axis=0)"
   ]
  },
  {
   "cell_type": "code",
   "execution_count": 7,
   "id": "b1506750",
   "metadata": {},
   "outputs": [
    {
     "data": {
      "text/plain": [
       "array([54015809.19,         nan,    15273.46,         nan,    15311.04,         nan,       16.62,\n",
       "            440.92,         nan,         nan,         nan,         nan,         nan,     3143.85])"
      ]
     },
     "execution_count": 7,
     "metadata": {},
     "output_type": "execute_result"
    }
   ],
   "source": [
    "temporary_mean"
   ]
  },
  {
   "cell_type": "code",
   "execution_count": 8,
   "id": "7691d7cd",
   "metadata": {},
   "outputs": [
    {
     "name": "stderr",
     "output_type": "stream",
     "text": [
      "C:\\Users\\ac\\AppData\\Local\\Temp/ipykernel_8636/1281601195.py:1: RuntimeWarning: All-NaN slice encountered\n",
      "  temp_stats=np.array([np.nanmin(raw_data_np,axis=0),\n",
      "C:\\Users\\ac\\AppData\\Local\\Temp/ipykernel_8636/1281601195.py:3: RuntimeWarning: All-NaN slice encountered\n",
      "  np.nanmax(raw_data_np,axis=0)])\n"
     ]
    },
    {
     "data": {
      "text/plain": [
       "array([[  373332.  ,         nan,     1000.  ,         nan,     1000.  ,         nan,        6.  ,\n",
       "              31.42,         nan,         nan,         nan,         nan,         nan,        0.  ],\n",
       "       [54015809.19,         nan,    15273.46,         nan,    15311.04,         nan,       16.62,\n",
       "             440.92,         nan,         nan,         nan,         nan,         nan,     3143.85],\n",
       "       [68616519.  ,         nan,    35000.  ,         nan,    35000.  ,         nan,       28.99,\n",
       "            1372.97,         nan,         nan,         nan,         nan,         nan,    41913.62]])"
      ]
     },
     "execution_count": 8,
     "metadata": {},
     "output_type": "execute_result"
    }
   ],
   "source": [
    "temp_stats=np.array([np.nanmin(raw_data_np,axis=0),\n",
    "                     temporary_mean,\n",
    "                     np.nanmax(raw_data_np,axis=0)])\n",
    "                     \n",
    "temp_stats                             "
   ]
  },
  {
   "cell_type": "code",
   "execution_count": 9,
   "id": "669c34ab",
   "metadata": {},
   "outputs": [
    {
     "data": {
      "text/plain": [
       "array([ 1,  3,  5,  8,  9, 10, 11, 12], dtype=int64)"
      ]
     },
     "execution_count": 9,
     "metadata": {},
     "output_type": "execute_result"
    }
   ],
   "source": [
    "#identifying which columns have numeric values and which are strings\n",
    "\n",
    "column_strings=np.argwhere(np.isnan(temporary_mean)).squeeze()\n",
    "column_strings"
   ]
  },
  {
   "cell_type": "code",
   "execution_count": 10,
   "id": "7ec8ae99",
   "metadata": {},
   "outputs": [
    {
     "data": {
      "text/plain": [
       "array([ 0,  2,  4,  6,  7, 13], dtype=int64)"
      ]
     },
     "execution_count": 10,
     "metadata": {},
     "output_type": "execute_result"
    }
   ],
   "source": [
    "column_num=np.argwhere(np.isnan(temporary_mean)==False).squeeze()\n",
    "column_num"
   ]
  },
  {
   "cell_type": "code",
   "execution_count": 11,
   "id": "27d615eb",
   "metadata": {},
   "outputs": [
    {
     "name": "stderr",
     "output_type": "stream",
     "text": [
      "C:\\Users\\ac\\AppData\\Local\\Temp/ipykernel_8636/2147087111.py:7: DeprecationWarning: `np.str` is a deprecated alias for the builtin `str`. To silence this warning, use `str` by itself. Doing this will not modify any behavior and is safe. If you specifically wanted the numpy scalar type, use `np.str_` here.\n",
      "Deprecated in NumPy 1.20; for more details and guidance: https://numpy.org/devdocs/release/1.20.0-notes.html#deprecations\n",
      "  dtype = np.str)\n"
     ]
    },
    {
     "data": {
      "text/plain": [
       "array([['May-15', 'Current', '36 months', ..., 'Verified',\n",
       "        'https://www.lendingclub.com/browse/loanDetail.action?loan_id=48010226', 'CA'],\n",
       "       ['', 'Current', '36 months', ..., 'Source Verified',\n",
       "        'https://www.lendingclub.com/browse/loanDetail.action?loan_id=57693261', 'NY'],\n",
       "       ['Sep-15', 'Current', '36 months', ..., 'Verified',\n",
       "        'https://www.lendingclub.com/browse/loanDetail.action?loan_id=59432726', 'PA'],\n",
       "       ...,\n",
       "       ['Jun-15', 'Current', '36 months', ..., 'Source Verified',\n",
       "        'https://www.lendingclub.com/browse/loanDetail.action?loan_id=50415990', 'CA'],\n",
       "       ['Apr-15', 'Current', '36 months', ..., 'Source Verified',\n",
       "        'https://www.lendingclub.com/browse/loanDetail.action?loan_id=46154151', 'OH'],\n",
       "       ['Dec-15', 'Current', '36 months', ..., '',\n",
       "        'https://www.lendingclub.com/browse/loanDetail.action?loan_id=66055249', 'IL']],\n",
       "      dtype='<U69')"
      ]
     },
     "execution_count": 11,
     "metadata": {},
     "output_type": "execute_result"
    }
   ],
   "source": [
    "#creating a set of string array from original dataset\n",
    "loan_data_strings = np.genfromtxt(\"loan-data.csv\",\n",
    "                                  delimiter = ';',\n",
    "                                  skip_header = 1,\n",
    "                                  autostrip = True, \n",
    "                                  usecols = column_strings,\n",
    "                                  dtype = np.str)\n",
    "loan_data_strings"
   ]
  },
  {
   "cell_type": "code",
   "execution_count": 12,
   "id": "46bcb2ed",
   "metadata": {},
   "outputs": [
    {
     "data": {
      "text/plain": [
       "array([['May-15', 'Current', '36 months', ..., 'Verified',\n",
       "        'https://www.lendingclub.com/browse/loanDetail.action?loan_id=48010226', 'CA'],\n",
       "       ['', 'Current', '36 months', ..., 'Source Verified',\n",
       "        'https://www.lendingclub.com/browse/loanDetail.action?loan_id=57693261', 'NY'],\n",
       "       ['Sep-15', 'Current', '36 months', ..., 'Verified',\n",
       "        'https://www.lendingclub.com/browse/loanDetail.action?loan_id=59432726', 'PA'],\n",
       "       ...,\n",
       "       ['Jun-15', 'Current', '36 months', ..., 'Source Verified',\n",
       "        'https://www.lendingclub.com/browse/loanDetail.action?loan_id=50415990', 'CA'],\n",
       "       ['Apr-15', 'Current', '36 months', ..., 'Source Verified',\n",
       "        'https://www.lendingclub.com/browse/loanDetail.action?loan_id=46154151', 'OH'],\n",
       "       ['Dec-15', 'Current', '36 months', ..., '',\n",
       "        'https://www.lendingclub.com/browse/loanDetail.action?loan_id=66055249', 'IL']],\n",
       "      dtype='<U69')"
      ]
     },
     "execution_count": 12,
     "metadata": {},
     "output_type": "execute_result"
    }
   ],
   "source": [
    "loan_data_strings"
   ]
  },
  {
   "cell_type": "code",
   "execution_count": 13,
   "id": "b81118cf",
   "metadata": {},
   "outputs": [],
   "source": [
    "#creating a set of numeric array from original dataset\n",
    "loan_data_num=np.genfromtxt(\"loan-data.csv\",\n",
    "                                delimiter=\";\",\n",
    "                                skip_header=1,\n",
    "                                autostrip=True,\n",
    "                                usecols=column_num,\n",
    "                            filling_values = temporary_fill )"
   ]
  },
  {
   "cell_type": "code",
   "execution_count": 14,
   "id": "a3bcf68e",
   "metadata": {},
   "outputs": [
    {
     "data": {
      "text/plain": [
       "array([[48010226.  ,    35000.  ,    35000.  ,       13.33,     1184.86,     9452.96],\n",
       "       [57693261.  ,    30000.  ,    30000.  , 68616520.  ,      938.57,     4679.7 ],\n",
       "       [59432726.  ,    15000.  ,    15000.  , 68616520.  ,      494.86,     1969.83],\n",
       "       ...,\n",
       "       [50415990.  ,    10000.  ,    10000.  , 68616520.  , 68616520.  ,     2185.64],\n",
       "       [46154151.  , 68616520.  ,    10000.  ,       16.55,      354.3 ,     3199.4 ],\n",
       "       [66055249.  ,    10000.  ,    10000.  , 68616520.  ,      309.97,      301.9 ]])"
      ]
     },
     "execution_count": 14,
     "metadata": {},
     "output_type": "execute_result"
    }
   ],
   "source": [
    "loan_data_num"
   ]
  },
  {
   "cell_type": "code",
   "execution_count": 15,
   "id": "e47780fd",
   "metadata": {},
   "outputs": [
    {
     "name": "stderr",
     "output_type": "stream",
     "text": [
      "C:\\Users\\ac\\AppData\\Local\\Temp/ipykernel_8636/811198226.py:6: DeprecationWarning: `np.str` is a deprecated alias for the builtin `str`. To silence this warning, use `str` by itself. Doing this will not modify any behavior and is safe. If you specifically wanted the numpy scalar type, use `np.str_` here.\n",
      "Deprecated in NumPy 1.20; for more details and guidance: https://numpy.org/devdocs/release/1.20.0-notes.html#deprecations\n",
      "  dtype=np.str)\n"
     ]
    },
    {
     "data": {
      "text/plain": [
       "array(['id', 'issue_d', 'loan_amnt', 'loan_status', 'funded_amnt', 'term', 'int_rate',\n",
       "       'installment', 'grade', 'sub_grade', 'verification_status', 'url', 'addr_state',\n",
       "       'total_pymnt'], dtype='<U19')"
      ]
     },
     "execution_count": 15,
     "metadata": {},
     "output_type": "execute_result"
    }
   ],
   "source": [
    "#getting column headings\n",
    "header_full=np.genfromtxt(\"loan-data.csv\",\n",
    "                                delimiter=\";\",\n",
    "                                skip_footer=raw_data_np.shape[0],\n",
    "                                autostrip=True,\n",
    "                               dtype=np.str)\n",
    "\n",
    "header_full"
   ]
  },
  {
   "cell_type": "code",
   "execution_count": 16,
   "id": "afc95df3",
   "metadata": {},
   "outputs": [],
   "source": [
    "header_strings,header_num=header_full[column_strings],header_full[column_num]"
   ]
  },
  {
   "cell_type": "code",
   "execution_count": 17,
   "id": "0e460d1e",
   "metadata": {},
   "outputs": [
    {
     "data": {
      "text/plain": [
       "array(['id', 'loan_amnt', 'funded_amnt', 'int_rate', 'installment', 'total_pymnt'], dtype='<U19')"
      ]
     },
     "execution_count": 17,
     "metadata": {},
     "output_type": "execute_result"
    }
   ],
   "source": [
    "header_num"
   ]
  },
  {
   "cell_type": "code",
   "execution_count": 18,
   "id": "8a7ac1b5",
   "metadata": {},
   "outputs": [
    {
     "data": {
      "text/plain": [
       "array(['issue_d', 'loan_status', 'term', 'grade', 'sub_grade', 'verification_status', 'url',\n",
       "       'addr_state'], dtype='<U19')"
      ]
     },
     "execution_count": 18,
     "metadata": {},
     "output_type": "execute_result"
    }
   ],
   "source": [
    "header_strings"
   ]
  },
  {
   "cell_type": "code",
   "execution_count": 19,
   "id": "a9c6797a",
   "metadata": {},
   "outputs": [],
   "source": [
    "def checkpoint(file_name,checkpoint_header,checkpoint_data):\n",
    "    np.savez(file_name,header=checkpoint_header,data=checkpoint_data)\n",
    "    checkpoint_variable=np.load(file_name+\".npz\")\n",
    "    return (checkpoint_variable)\n",
    "    "
   ]
  },
  {
   "cell_type": "code",
   "execution_count": 20,
   "id": "236d324f",
   "metadata": {},
   "outputs": [],
   "source": [
    "checkpoint_test=checkpoint(\"checkpoint-test\",header_strings,loan_data_strings)"
   ]
  },
  {
   "cell_type": "code",
   "execution_count": 21,
   "id": "662e95ab",
   "metadata": {},
   "outputs": [
    {
     "data": {
      "text/plain": [
       "array(['issue_d', 'loan_status', 'term', 'grade', 'sub_grade', 'verification_status', 'url',\n",
       "       'addr_state'], dtype='<U19')"
      ]
     },
     "execution_count": 21,
     "metadata": {},
     "output_type": "execute_result"
    }
   ],
   "source": [
    "checkpoint_test[\"header\"]"
   ]
  },
  {
   "cell_type": "code",
   "execution_count": 22,
   "id": "e8831307",
   "metadata": {},
   "outputs": [
    {
     "data": {
      "text/plain": [
       "array(['issue_d', 'loan_status', 'term', 'grade', 'sub_grade', 'verification_status', 'url',\n",
       "       'addr_state'], dtype='<U19')"
      ]
     },
     "execution_count": 22,
     "metadata": {},
     "output_type": "execute_result"
    }
   ],
   "source": [
    "header_strings"
   ]
  },
  {
   "cell_type": "code",
   "execution_count": 23,
   "id": "4a726bd0",
   "metadata": {},
   "outputs": [],
   "source": [
    "header_strings[0]=\"issue_date\""
   ]
  },
  {
   "cell_type": "code",
   "execution_count": 24,
   "id": "823520b8",
   "metadata": {},
   "outputs": [
    {
     "data": {
      "text/plain": [
       "array(['issue_date', 'loan_status', 'term', 'grade', 'sub_grade', 'verification_status', 'url',\n",
       "       'addr_state'], dtype='<U19')"
      ]
     },
     "execution_count": 24,
     "metadata": {},
     "output_type": "execute_result"
    }
   ],
   "source": [
    "\n",
    "header_strings"
   ]
  },
  {
   "cell_type": "code",
   "execution_count": 25,
   "id": "7049c3c3",
   "metadata": {},
   "outputs": [
    {
     "data": {
      "text/plain": [
       "array(['', 'Apr-15', 'Aug-15', 'Dec-15', 'Feb-15', 'Jan-15', 'Jul-15', 'Jun-15', 'Mar-15',\n",
       "       'May-15', 'Nov-15', 'Oct-15', 'Sep-15'], dtype='<U69')"
      ]
     },
     "execution_count": 25,
     "metadata": {},
     "output_type": "execute_result"
    }
   ],
   "source": [
    "#changing date format to integers and removing -15 because its the same year\n",
    "\n",
    "np.unique(loan_data_strings[:,0])"
   ]
  },
  {
   "cell_type": "code",
   "execution_count": 26,
   "id": "4f268196",
   "metadata": {},
   "outputs": [],
   "source": [
    "loan_data_strings[:,0]=np.chararray.strip(loan_data_strings[:,0],\"-15\")"
   ]
  },
  {
   "cell_type": "code",
   "execution_count": null,
   "id": "9bf5c884",
   "metadata": {},
   "outputs": [],
   "source": []
  },
  {
   "cell_type": "code",
   "execution_count": 27,
   "id": "137200bb",
   "metadata": {},
   "outputs": [
    {
     "data": {
      "text/plain": [
       "array(['', 'Apr', 'Aug', 'Dec', 'Feb', 'Jan', 'Jul', 'Jun', 'Mar', 'May', 'Nov', 'Oct', 'Sep'],\n",
       "      dtype='<U69')"
      ]
     },
     "execution_count": 27,
     "metadata": {},
     "output_type": "execute_result"
    }
   ],
   "source": [
    "np.unique(loan_data_strings[:,0])"
   ]
  },
  {
   "cell_type": "code",
   "execution_count": 28,
   "id": "74eb8f84",
   "metadata": {},
   "outputs": [],
   "source": [
    "#creating a month array in order of months\n",
    "#range(13)=[0,1,2,3,4,5,6,7,8,9,10,11,12] will map into array elements below\n",
    "months=np.array([\"\",\"Jan\",\"Feb\",\"Mar\",\"Apr\",\"May\",\"Jun\",\"Jul\",\"Aug\",\"Sep\",\"Oct\",\"Nov\",\"Dec\"])"
   ]
  },
  {
   "cell_type": "code",
   "execution_count": 29,
   "id": "58eb95cf",
   "metadata": {},
   "outputs": [],
   "source": [
    "#if month==month then replace it with integer i \n",
    "for i in range(13):\n",
    "    loan_data_strings[:,0]=np.where(loan_data_strings[:,0]==months[i],\n",
    "    i,\n",
    "    loan_data_strings[:,0])\n",
    "    \n",
    "    "
   ]
  },
  {
   "cell_type": "code",
   "execution_count": 30,
   "id": "be2cb286",
   "metadata": {},
   "outputs": [
    {
     "data": {
      "text/plain": [
       "array(['0', '1', '10', '11', '12', '2', '3', '4', '5', '6', '7', '8', '9'], dtype='<U69')"
      ]
     },
     "execution_count": 30,
     "metadata": {},
     "output_type": "execute_result"
    }
   ],
   "source": [
    "np.unique(loan_data_strings[:,0])"
   ]
  },
  {
   "cell_type": "code",
   "execution_count": 31,
   "id": "1912fe38",
   "metadata": {},
   "outputs": [],
   "source": [
    "#manipulating loan status column\n"
   ]
  },
  {
   "cell_type": "code",
   "execution_count": 32,
   "id": "fcc44db1",
   "metadata": {},
   "outputs": [
    {
     "data": {
      "text/plain": [
       "array(['', 'Charged Off', 'Current', 'Default', 'Fully Paid', 'In Grace Period', 'Issued',\n",
       "       'Late (16-30 days)', 'Late (31-120 days)'], dtype='<U69')"
      ]
     },
     "execution_count": 32,
     "metadata": {},
     "output_type": "execute_result"
    }
   ],
   "source": [
    "np.unique(loan_data_strings[:,1])"
   ]
  },
  {
   "cell_type": "code",
   "execution_count": 33,
   "id": "ca196670",
   "metadata": {},
   "outputs": [
    {
     "data": {
      "text/plain": [
       "array(['', 'Charged Off', 'Default', 'Late (31-120 days)'], dtype='<U18')"
      ]
     },
     "execution_count": 33,
     "metadata": {},
     "output_type": "execute_result"
    }
   ],
   "source": [
    "#assigning 0 where loan_status is bad\n",
    "bad_status=np.array([\"\",\"Charged Off\",\"Default\",\"Late (31-120 days)\"])\n",
    "bad_status"
   ]
  },
  {
   "cell_type": "code",
   "execution_count": 34,
   "id": "715ee535",
   "metadata": {},
   "outputs": [],
   "source": [
    "\n",
    "loan_data_strings[:,1]=np.where(np.isin(loan_data_strings[:,1],bad_status),0,1)"
   ]
  },
  {
   "cell_type": "code",
   "execution_count": 35,
   "id": "9fae27ce",
   "metadata": {},
   "outputs": [
    {
     "data": {
      "text/plain": [
       "array(['0', '1'], dtype='<U69')"
      ]
     },
     "execution_count": 35,
     "metadata": {},
     "output_type": "execute_result"
    }
   ],
   "source": [
    "np.unique(loan_data_strings[:,1])"
   ]
  },
  {
   "cell_type": "code",
   "execution_count": 36,
   "id": "49138936",
   "metadata": {},
   "outputs": [
    {
     "data": {
      "text/plain": [
       "array(['36 months', '36 months', '36 months', ..., '36 months', '36 months', '36 months'],\n",
       "      dtype='<U69')"
      ]
     },
     "execution_count": 36,
     "metadata": {},
     "output_type": "execute_result"
    }
   ],
   "source": [
    "loan_data_strings[:,2]"
   ]
  },
  {
   "cell_type": "code",
   "execution_count": 37,
   "id": "1f1a8672",
   "metadata": {},
   "outputs": [
    {
     "data": {
      "text/plain": [
       "array(['issue_date', 'loan_status', 'term', 'grade', 'sub_grade', 'verification_status', 'url',\n",
       "       'addr_state'], dtype='<U19')"
      ]
     },
     "execution_count": 37,
     "metadata": {},
     "output_type": "execute_result"
    }
   ],
   "source": [
    "header_strings"
   ]
  },
  {
   "cell_type": "code",
   "execution_count": 38,
   "id": "82fa9d1d",
   "metadata": {},
   "outputs": [
    {
     "data": {
      "text/plain": [
       "array(['', '36 months', '60 months'], dtype='<U69')"
      ]
     },
     "execution_count": 38,
     "metadata": {},
     "output_type": "execute_result"
    }
   ],
   "source": [
    "np.unique(loan_data_strings[:,2])"
   ]
  },
  {
   "cell_type": "code",
   "execution_count": 39,
   "id": "347d9a11",
   "metadata": {},
   "outputs": [],
   "source": [
    "loan_data_strings[:,2]=np.chararray.strip(loan_data_strings[:,2],\" months\")"
   ]
  },
  {
   "cell_type": "code",
   "execution_count": 40,
   "id": "21b36c65",
   "metadata": {},
   "outputs": [
    {
     "data": {
      "text/plain": [
       "array(['', '36', '60'], dtype='<U69')"
      ]
     },
     "execution_count": 40,
     "metadata": {},
     "output_type": "execute_result"
    }
   ],
   "source": [
    "np.unique(loan_data_strings[:,2])"
   ]
  },
  {
   "cell_type": "code",
   "execution_count": 41,
   "id": "13d4cfa8",
   "metadata": {},
   "outputs": [],
   "source": [
    "loan_data_strings[:,2]=np.where(loan_data_strings[:,2]==\"\",\n",
    "                               '60',\n",
    "                                loan_data_strings[:,2]\n",
    "                               )"
   ]
  },
  {
   "cell_type": "code",
   "execution_count": 42,
   "id": "ff15be85",
   "metadata": {},
   "outputs": [
    {
     "data": {
      "text/plain": [
       "array(['36', '60'], dtype='<U69')"
      ]
     },
     "execution_count": 42,
     "metadata": {},
     "output_type": "execute_result"
    }
   ],
   "source": [
    "np.unique(loan_data_strings[:,2])"
   ]
  },
  {
   "cell_type": "code",
   "execution_count": 43,
   "id": "911e4c43",
   "metadata": {},
   "outputs": [
    {
     "data": {
      "text/plain": [
       "array(['', 'A', 'B', 'C', 'D', 'E', 'F', 'G'], dtype='<U69')"
      ]
     },
     "execution_count": 43,
     "metadata": {},
     "output_type": "execute_result"
    }
   ],
   "source": [
    "#Grade\n",
    "np.unique(loan_data_strings[:,3])"
   ]
  },
  {
   "cell_type": "code",
   "execution_count": 44,
   "id": "54ca75e7",
   "metadata": {},
   "outputs": [
    {
     "data": {
      "text/plain": [
       "array(['', 'A1', 'A2', 'A3', 'A4', 'A5', 'B1', 'B2', 'B3', 'B4', 'B5', 'C1', 'C2', 'C3', 'C4',\n",
       "       'C5', 'D1', 'D2', 'D3', 'D4', 'D5', 'E1', 'E2', 'E3', 'E4', 'E5', 'F1', 'F2', 'F3', 'F4',\n",
       "       'F5', 'G1', 'G2', 'G3', 'G4', 'G5'], dtype='<U69')"
      ]
     },
     "execution_count": 44,
     "metadata": {},
     "output_type": "execute_result"
    }
   ],
   "source": [
    "#Subgrade\n",
    "np.unique(loan_data_strings[:,4])"
   ]
  },
  {
   "cell_type": "code",
   "execution_count": 45,
   "id": "e8555601",
   "metadata": {},
   "outputs": [],
   "source": [
    "#assinging missing values in subgrade the worst grade of the bracket.\n",
    "for i in np.unique(loan_data_strings[:,3])[1:]:\n",
    "    loan_data_strings[:,4]=np.where((loan_data_strings[:,4]=='') & (loan_data_strings[:,3]==i),\n",
    "                                   i+'5',\n",
    "                                   loan_data_strings[:,4])"
   ]
  },
  {
   "cell_type": "code",
   "execution_count": 46,
   "id": "ba3a7054",
   "metadata": {},
   "outputs": [
    {
     "data": {
      "text/plain": [
       "(array(['', 'A1', 'A2', 'A3', 'A4', 'A5', 'B1', 'B2', 'B3', 'B4', 'B5', 'C1', 'C2', 'C3', 'C4',\n",
       "        'C5', 'D1', 'D2', 'D3', 'D4', 'D5', 'E1', 'E2', 'E3', 'E4', 'E5', 'F1', 'F2', 'F3', 'F4',\n",
       "        'F5', 'G1', 'G2', 'G3', 'G4', 'G5'], dtype='<U69'),\n",
       " array([  9, 285, 278, 239, 323, 592, 509, 517, 530, 553, 633, 629, 567, 586, 564, 577, 391, 267,\n",
       "        250, 255, 288, 235, 162, 171, 139, 160,  94,  52,  34,  43,  24,  19,  10,   3,   7,   5],\n",
       "       dtype=int64))"
      ]
     },
     "execution_count": 46,
     "metadata": {},
     "output_type": "execute_result"
    }
   ],
   "source": [
    "np.unique(loan_data_strings[:,4], return_counts=True)"
   ]
  },
  {
   "cell_type": "code",
   "execution_count": 47,
   "id": "15364d31",
   "metadata": {},
   "outputs": [],
   "source": [
    "loan_data_strings[:,4]=np.where(loan_data_strings[:,4]=='','H1',loan_data_strings[:,4] )"
   ]
  },
  {
   "cell_type": "code",
   "execution_count": 48,
   "id": "ff3358bc",
   "metadata": {},
   "outputs": [
    {
     "data": {
      "text/plain": [
       "array(['A1', 'A2', 'A3', 'A4', 'A5', 'B1', 'B2', 'B3', 'B4', 'B5', 'C1', 'C2', 'C3', 'C4', 'C5',\n",
       "       'D1', 'D2', 'D3', 'D4', 'D5', 'E1', 'E2', 'E3', 'E4', 'E5', 'F1', 'F2', 'F3', 'F4', 'F5',\n",
       "       'G1', 'G2', 'G3', 'G4', 'G5', 'H1'], dtype='<U69')"
      ]
     },
     "execution_count": 48,
     "metadata": {},
     "output_type": "execute_result"
    }
   ],
   "source": [
    "np.unique(loan_data_strings[:,4])"
   ]
  },
  {
   "cell_type": "code",
   "execution_count": 49,
   "id": "ac4c9b3d",
   "metadata": {},
   "outputs": [],
   "source": [
    "#Removing grade column\n",
    "loan_data_strings=np.delete(loan_data_strings,3,axis=1 )"
   ]
  },
  {
   "cell_type": "code",
   "execution_count": 50,
   "id": "a0fea526",
   "metadata": {},
   "outputs": [
    {
     "data": {
      "text/plain": [
       "array(['C3', 'A5', 'B5', ..., 'A5', 'D2', 'A4'], dtype='<U69')"
      ]
     },
     "execution_count": 50,
     "metadata": {},
     "output_type": "execute_result"
    }
   ],
   "source": [
    "loan_data_strings[:,3]"
   ]
  },
  {
   "cell_type": "code",
   "execution_count": 51,
   "id": "af965971",
   "metadata": {},
   "outputs": [],
   "source": [
    "header_strings=np.delete(header_strings,3 )"
   ]
  },
  {
   "cell_type": "code",
   "execution_count": 52,
   "id": "6d2468f3",
   "metadata": {},
   "outputs": [
    {
     "data": {
      "text/plain": [
       "array(['issue_date', 'loan_status', 'term', 'sub_grade', 'verification_status', 'url',\n",
       "       'addr_state'], dtype='<U19')"
      ]
     },
     "execution_count": 52,
     "metadata": {},
     "output_type": "execute_result"
    }
   ],
   "source": [
    "header_strings"
   ]
  },
  {
   "cell_type": "code",
   "execution_count": 53,
   "id": "cb00b118",
   "metadata": {},
   "outputs": [],
   "source": [
    "#assigning subgrades the integer value to define grade in terms of numeric value\n",
    "keys=list(np.unique(loan_data_strings[:,3]))\n",
    "values=list(range(1,np.unique(loan_data_strings[:,3]).shape[0]+1))\n",
    "dict_subgrade=dict(zip(keys,values))"
   ]
  },
  {
   "cell_type": "code",
   "execution_count": 54,
   "id": "cdb9a1af",
   "metadata": {},
   "outputs": [
    {
     "data": {
      "text/plain": [
       "{'A1': 1,\n",
       " 'A2': 2,\n",
       " 'A3': 3,\n",
       " 'A4': 4,\n",
       " 'A5': 5,\n",
       " 'B1': 6,\n",
       " 'B2': 7,\n",
       " 'B3': 8,\n",
       " 'B4': 9,\n",
       " 'B5': 10,\n",
       " 'C1': 11,\n",
       " 'C2': 12,\n",
       " 'C3': 13,\n",
       " 'C4': 14,\n",
       " 'C5': 15,\n",
       " 'D1': 16,\n",
       " 'D2': 17,\n",
       " 'D3': 18,\n",
       " 'D4': 19,\n",
       " 'D5': 20,\n",
       " 'E1': 21,\n",
       " 'E2': 22,\n",
       " 'E3': 23,\n",
       " 'E4': 24,\n",
       " 'E5': 25,\n",
       " 'F1': 26,\n",
       " 'F2': 27,\n",
       " 'F3': 28,\n",
       " 'F4': 29,\n",
       " 'F5': 30,\n",
       " 'G1': 31,\n",
       " 'G2': 32,\n",
       " 'G3': 33,\n",
       " 'G4': 34,\n",
       " 'G5': 35,\n",
       " 'H1': 36}"
      ]
     },
     "execution_count": 54,
     "metadata": {},
     "output_type": "execute_result"
    }
   ],
   "source": [
    "dict_subgrade\n"
   ]
  },
  {
   "cell_type": "code",
   "execution_count": 55,
   "id": "42ad41f6",
   "metadata": {},
   "outputs": [],
   "source": [
    "for i in np.unique(loan_data_strings[:,3]):\n",
    "    loan_data_strings[:,3]=np.where((loan_data_strings[:,3]==i),\n",
    "                                  dict_subgrade[i],\n",
    "                                  loan_data_strings[:,3])\n",
    "   "
   ]
  },
  {
   "cell_type": "code",
   "execution_count": 56,
   "id": "d0be431b",
   "metadata": {},
   "outputs": [
    {
     "data": {
      "text/plain": [
       "array(['1', '10', '11', '12', '13', '14', '15', '16', '17', '18', '19', '2', '20', '21', '22',\n",
       "       '23', '24', '25', '26', '27', '28', '29', '3', '30', '31', '32', '33', '34', '35', '36',\n",
       "       '4', '5', '6', '7', '8', '9'], dtype='<U69')"
      ]
     },
     "execution_count": 56,
     "metadata": {},
     "output_type": "execute_result"
    }
   ],
   "source": [
    "np.unique(loan_data_strings[:,3])"
   ]
  },
  {
   "cell_type": "code",
   "execution_count": 57,
   "id": "8ca072f4",
   "metadata": {},
   "outputs": [
    {
     "data": {
      "text/plain": [
       "array(['', 'Not Verified', 'Source Verified', 'Verified'], dtype='<U69')"
      ]
     },
     "execution_count": 57,
     "metadata": {},
     "output_type": "execute_result"
    }
   ],
   "source": [
    "\n",
    "np.unique(loan_data_strings[:,4])"
   ]
  },
  {
   "cell_type": "code",
   "execution_count": 58,
   "id": "51022e34",
   "metadata": {},
   "outputs": [
    {
     "data": {
      "text/plain": [
       "array(['issue_date', 'loan_status', 'term', 'sub_grade', 'verification_status', 'url',\n",
       "       'addr_state'], dtype='<U19')"
      ]
     },
     "execution_count": 58,
     "metadata": {},
     "output_type": "execute_result"
    }
   ],
   "source": [
    "header_strings"
   ]
  },
  {
   "cell_type": "code",
   "execution_count": 59,
   "id": "8a5d3482",
   "metadata": {},
   "outputs": [],
   "source": [
    "loan_data_strings[:,4]=np.where((loan_data_strings[:,4]=='') | (loan_data_strings[:,4]== 'Not Verified'),\n",
    "                                                     0,\n",
    "                                                     1)"
   ]
  },
  {
   "cell_type": "code",
   "execution_count": 60,
   "id": "820ac72e",
   "metadata": {},
   "outputs": [
    {
     "data": {
      "text/plain": [
       "array(['0', '1'], dtype='<U69')"
      ]
     },
     "execution_count": 60,
     "metadata": {},
     "output_type": "execute_result"
    }
   ],
   "source": [
    "np.unique(loan_data_strings[:,4])"
   ]
  },
  {
   "cell_type": "code",
   "execution_count": 61,
   "id": "fd59233c",
   "metadata": {},
   "outputs": [
    {
     "data": {
      "text/plain": [
       "array(['https://www.lendingclub.com/browse/loanDetail.action?loan_id=48010226',\n",
       "       'https://www.lendingclub.com/browse/loanDetail.action?loan_id=57693261',\n",
       "       'https://www.lendingclub.com/browse/loanDetail.action?loan_id=59432726', ...,\n",
       "       'https://www.lendingclub.com/browse/loanDetail.action?loan_id=50415990',\n",
       "       'https://www.lendingclub.com/browse/loanDetail.action?loan_id=46154151',\n",
       "       'https://www.lendingclub.com/browse/loanDetail.action?loan_id=66055249'], dtype='<U69')"
      ]
     },
     "execution_count": 61,
     "metadata": {},
     "output_type": "execute_result"
    }
   ],
   "source": [
    "loan_data_strings[:,5]"
   ]
  },
  {
   "cell_type": "code",
   "execution_count": 62,
   "id": "aecf6449",
   "metadata": {},
   "outputs": [],
   "source": [
    "loan_data_strings[:,5]=np.chararray.strip(loan_data_strings[:,5],\"https://www.lendingclub.com/browse/loanDetail.action?loan_id=\")"
   ]
  },
  {
   "cell_type": "code",
   "execution_count": 63,
   "id": "1ecc5c8a",
   "metadata": {},
   "outputs": [
    {
     "data": {
      "text/plain": [
       "array([48010226, 57693261, 59432726, ..., 50415990, 46154151, 66055249])"
      ]
     },
     "execution_count": 63,
     "metadata": {},
     "output_type": "execute_result"
    }
   ],
   "source": [
    "loan_data_strings[:,5].astype(dtype=np.int32)"
   ]
  },
  {
   "cell_type": "code",
   "execution_count": 64,
   "id": "eefbf142",
   "metadata": {},
   "outputs": [
    {
     "data": {
      "text/plain": [
       "array([48010226, 57693261, 59432726, ..., 50415990, 46154151, 66055249])"
      ]
     },
     "execution_count": 64,
     "metadata": {},
     "output_type": "execute_result"
    }
   ],
   "source": [
    "loan_data_num[:,0].astype(dtype=np.int32)"
   ]
  },
  {
   "cell_type": "code",
   "execution_count": 65,
   "id": "e0c207e0",
   "metadata": {},
   "outputs": [
    {
     "data": {
      "text/plain": [
       "array([ True,  True,  True, ...,  True,  True,  True])"
      ]
     },
     "execution_count": 65,
     "metadata": {},
     "output_type": "execute_result"
    }
   ],
   "source": [
    "(loan_data_num[:,0].astype(dtype=np.int32)==loan_data_strings[:,5].astype(dtype=np.int32))"
   ]
  },
  {
   "cell_type": "code",
   "execution_count": 66,
   "id": "cefcdb5b",
   "metadata": {},
   "outputs": [
    {
     "data": {
      "text/plain": [
       "True"
      ]
     },
     "execution_count": 66,
     "metadata": {},
     "output_type": "execute_result"
    }
   ],
   "source": [
    "np.array_equal(loan_data_num[:,0].astype(dtype=np.int32),loan_data_strings[:,5].astype(dtype=np.int32))"
   ]
  },
  {
   "cell_type": "code",
   "execution_count": 67,
   "id": "28c4ad7c",
   "metadata": {},
   "outputs": [
    {
     "data": {
      "text/plain": [
       "array(['issue_date', 'loan_status', 'term', 'sub_grade', 'verification_status', 'url',\n",
       "       'addr_state'], dtype='<U19')"
      ]
     },
     "execution_count": 67,
     "metadata": {},
     "output_type": "execute_result"
    }
   ],
   "source": [
    "header_strings"
   ]
  },
  {
   "cell_type": "code",
   "execution_count": 68,
   "id": "7f8ce6f2",
   "metadata": {},
   "outputs": [],
   "source": [
    "loan_data_strings=np.delete(loan_data_strings,5,axis=1)\n"
   ]
  },
  {
   "cell_type": "code",
   "execution_count": 69,
   "id": "ee59bf9e",
   "metadata": {},
   "outputs": [],
   "source": [
    "header_strings=np.delete(header_strings,5)"
   ]
  },
  {
   "cell_type": "code",
   "execution_count": 70,
   "id": "c8abb3cf",
   "metadata": {},
   "outputs": [
    {
     "data": {
      "text/plain": [
       "array(['issue_date', 'loan_status', 'term', 'sub_grade', 'verification_status', 'addr_state'],\n",
       "      dtype='<U19')"
      ]
     },
     "execution_count": 70,
     "metadata": {},
     "output_type": "execute_result"
    }
   ],
   "source": [
    "header_strings"
   ]
  },
  {
   "cell_type": "code",
   "execution_count": 71,
   "id": "e669f76e",
   "metadata": {},
   "outputs": [
    {
     "data": {
      "text/plain": [
       "array(['CA', 'NY', 'PA', ..., 'CA', 'OH', 'IL'], dtype='<U69')"
      ]
     },
     "execution_count": 71,
     "metadata": {},
     "output_type": "execute_result"
    }
   ],
   "source": [
    "loan_data_strings[:,5]"
   ]
  },
  {
   "cell_type": "code",
   "execution_count": 72,
   "id": "ef7a87a8",
   "metadata": {},
   "outputs": [
    {
     "data": {
      "text/plain": [
       "array([48010226., 57693261., 59432726., ..., 50415990., 46154151., 66055249.])"
      ]
     },
     "execution_count": 72,
     "metadata": {},
     "output_type": "execute_result"
    }
   ],
   "source": [
    "loan_data_num[:,0]"
   ]
  },
  {
   "cell_type": "code",
   "execution_count": 73,
   "id": "1ca15d57",
   "metadata": {},
   "outputs": [
    {
     "data": {
      "text/plain": [
       "array(['id', 'loan_amnt', 'funded_amnt', 'int_rate', 'installment', 'total_pymnt'], dtype='<U19')"
      ]
     },
     "execution_count": 73,
     "metadata": {},
     "output_type": "execute_result"
    }
   ],
   "source": [
    "header_num"
   ]
  },
  {
   "cell_type": "code",
   "execution_count": 74,
   "id": "8d5272d8",
   "metadata": {},
   "outputs": [
    {
     "data": {
      "text/plain": [
       "(array(['', 'AK', 'AL', 'AR', 'AZ', 'CA', 'CO', 'CT', 'DC', 'DE', 'FL', 'GA', 'HI', 'IL', 'IN',\n",
       "        'KS', 'KY', 'LA', 'MA', 'MD', 'ME', 'MI', 'MN', 'MO', 'MS', 'MT', 'NC', 'ND', 'NE', 'NH',\n",
       "        'NJ', 'NM', 'NV', 'NY', 'OH', 'OK', 'OR', 'PA', 'RI', 'SC', 'SD', 'TN', 'TX', 'UT', 'VA',\n",
       "        'VT', 'WA', 'WI', 'WV', 'WY'], dtype='<U69'),\n",
       " array([ 500,   26,  119,   74,  220, 1336,  201,  143,   27,   27,  690,  321,   44,  389,  152,\n",
       "          84,   84,  116,  210,  222,   10,  267,  156,  160,   61,   28,  261,   16,   25,   58,\n",
       "         341,   57,  130,  777,  312,   83,  108,  320,   40,  107,   24,  143,  758,   74,  242,\n",
       "          17,  216,  148,   49,   27], dtype=int64))"
      ]
     },
     "execution_count": 74,
     "metadata": {},
     "output_type": "execute_result"
    }
   ],
   "source": [
    "np.unique(loan_data_strings[:,5],return_counts=True)"
   ]
  },
  {
   "cell_type": "code",
   "execution_count": 75,
   "id": "a9226706",
   "metadata": {},
   "outputs": [
    {
     "data": {
      "text/plain": [
       "(array(['CA', 'NY', 'TX', 'FL', '', 'IL', 'NJ', 'GA', 'PA', 'OH', 'MI', 'NC', 'VA', 'MD', 'AZ',\n",
       "        'WA', 'MA', 'CO', 'MO', 'MN', 'IN', 'WI', 'CT', 'TN', 'NV', 'AL', 'LA', 'OR', 'SC', 'KY',\n",
       "        'KS', 'OK', 'UT', 'AR', 'MS', 'NH', 'NM', 'WV', 'HI', 'RI', 'MT', 'DE', 'DC', 'WY', 'AK',\n",
       "        'NE', 'SD', 'VT', 'ND', 'ME'], dtype='<U69'),\n",
       " array([1336,  777,  758,  690,  500,  389,  341,  321,  320,  312,  267,  261,  242,  222,  220,\n",
       "         216,  210,  201,  160,  156,  152,  148,  143,  143,  130,  119,  116,  108,  107,   84,\n",
       "          84,   83,   74,   74,   61,   58,   57,   49,   44,   40,   28,   27,   27,   27,   26,\n",
       "          25,   24,   17,   16,   10], dtype=int64))"
      ]
     },
     "execution_count": 75,
     "metadata": {},
     "output_type": "execute_result"
    }
   ],
   "source": [
    "states_name,states_count=np.unique(loan_data_strings[:,5],return_counts=True)\n",
    "states_count_sorted=np.argsort(-states_count)\n",
    "states_name[states_count_sorted],states_count[states_count_sorted]"
   ]
  },
  {
   "cell_type": "code",
   "execution_count": 76,
   "id": "337ca34c",
   "metadata": {},
   "outputs": [],
   "source": [
    "loan_data_strings[:,5]=np.where(loan_data_strings[:,5]=='',\n",
    "                               0,\n",
    "                               loan_data_strings[:,5])\n"
   ]
  },
  {
   "cell_type": "code",
   "execution_count": 77,
   "id": "4a447181",
   "metadata": {},
   "outputs": [],
   "source": [
    "#classifying states according to west,south,east,mideast geopgraphical location\n",
    "states_west = np.array(['WA', 'OR','CA','NV','ID','MT', 'WY','UT','CO', 'AZ','NM','HI','AK'])\n",
    "states_south = np.array(['TX','OK','AR','LA','MS','AL','TN','KY','FL','GA','SC','NC','VA','WV','MD','DE','DC'])\n",
    "states_midwest = np.array(['ND','SD','NE','KS','MN','IA','MO','WI','IL','IN','MI','OH'])\n",
    "states_east = np.array(['PA','NY','NJ','CT','MA','VT','NH','ME','RI'])"
   ]
  },
  {
   "cell_type": "code",
   "execution_count": 78,
   "id": "e387b714",
   "metadata": {},
   "outputs": [],
   "source": [
    "loan_data_strings[:,5]=np.where(np.isin(loan_data_strings[:,5],states_west),1,loan_data_strings[:,5])\n",
    "loan_data_strings[:,5]=np.where(np.isin(loan_data_strings[:,5],states_east),4,loan_data_strings[:,5])\n",
    "loan_data_strings[:,5]=np.where(np.isin(loan_data_strings[:,5],states_midwest),3,loan_data_strings[:,5])\n",
    "loan_data_strings[:,5]=np.where(np.isin(loan_data_strings[:,5],states_south),2,loan_data_strings[:,5])"
   ]
  },
  {
   "cell_type": "code",
   "execution_count": 79,
   "id": "aab87f98",
   "metadata": {},
   "outputs": [
    {
     "data": {
      "text/plain": [
       "(array(['0', '1', '2', '3', '4'], dtype='<U69'),\n",
       " array([ 500, 2467, 3384, 1733, 1916], dtype=int64))"
      ]
     },
     "execution_count": 79,
     "metadata": {},
     "output_type": "execute_result"
    }
   ],
   "source": [
    "np.unique(loan_data_strings[:,5],return_counts=True)"
   ]
  },
  {
   "cell_type": "code",
   "execution_count": 80,
   "id": "4253e0ca",
   "metadata": {},
   "outputs": [
    {
     "data": {
      "text/plain": [
       "array(['issue_date', 'loan_status', 'term', 'sub_grade', 'verification_status', 'addr_state'],\n",
       "      dtype='<U19')"
      ]
     },
     "execution_count": 80,
     "metadata": {},
     "output_type": "execute_result"
    }
   ],
   "source": [
    "header_strings"
   ]
  },
  {
   "cell_type": "code",
   "execution_count": 81,
   "id": "3315eb35",
   "metadata": {},
   "outputs": [
    {
     "name": "stderr",
     "output_type": "stream",
     "text": [
      "C:\\Users\\ac\\AppData\\Local\\Temp/ipykernel_8636/1241959519.py:1: DeprecationWarning: `np.int` is a deprecated alias for the builtin `int`. To silence this warning, use `int` by itself. Doing this will not modify any behavior and is safe. When replacing `np.int`, you may wish to use e.g. `np.int64` or `np.int32` to specify the precision. If you wish to review your current use, check the release note link for additional information.\n",
      "Deprecated in NumPy 1.20; for more details and guidance: https://numpy.org/devdocs/release/1.20.0-notes.html#deprecations\n",
      "  loan_data_strings=loan_data_strings.astype(dtype=np.int)\n"
     ]
    }
   ],
   "source": [
    "loan_data_strings=loan_data_strings.astype(dtype=np.int)"
   ]
  },
  {
   "cell_type": "code",
   "execution_count": 82,
   "id": "806ed20e",
   "metadata": {},
   "outputs": [
    {
     "data": {
      "text/plain": [
       "array([[ 5,  1, 36, 13,  1,  1],\n",
       "       [ 0,  1, 36,  5,  1,  4],\n",
       "       [ 9,  1, 36, 10,  1,  4],\n",
       "       ...,\n",
       "       [ 6,  1, 36,  5,  1,  1],\n",
       "       [ 4,  1, 36, 17,  1,  3],\n",
       "       [12,  1, 36,  4,  0,  3]])"
      ]
     },
     "execution_count": 82,
     "metadata": {},
     "output_type": "execute_result"
    }
   ],
   "source": [
    "loan_data_strings"
   ]
  },
  {
   "cell_type": "code",
   "execution_count": 83,
   "id": "b2bbf2bd",
   "metadata": {},
   "outputs": [],
   "source": [
    "checkpoint_strings=checkpoint(\"checkpoint-strings\",header_strings,loan_data_strings)"
   ]
  },
  {
   "cell_type": "code",
   "execution_count": 84,
   "id": "a5b7d8a9",
   "metadata": {},
   "outputs": [
    {
     "data": {
      "text/plain": [
       "array(['issue_date', 'loan_status', 'term', 'sub_grade', 'verification_status', 'addr_state'],\n",
       "      dtype='<U19')"
      ]
     },
     "execution_count": 84,
     "metadata": {},
     "output_type": "execute_result"
    }
   ],
   "source": [
    "checkpoint_strings['header']"
   ]
  },
  {
   "cell_type": "code",
   "execution_count": 85,
   "id": "55413eeb",
   "metadata": {},
   "outputs": [
    {
     "data": {
      "text/plain": [
       "array([[ 5,  1, 36, 13,  1,  1],\n",
       "       [ 0,  1, 36,  5,  1,  4],\n",
       "       [ 9,  1, 36, 10,  1,  4],\n",
       "       ...,\n",
       "       [ 6,  1, 36,  5,  1,  1],\n",
       "       [ 4,  1, 36, 17,  1,  3],\n",
       "       [12,  1, 36,  4,  0,  3]])"
      ]
     },
     "execution_count": 85,
     "metadata": {},
     "output_type": "execute_result"
    }
   ],
   "source": [
    "checkpoint_strings['data']"
   ]
  },
  {
   "cell_type": "code",
   "execution_count": 86,
   "id": "34fea499",
   "metadata": {},
   "outputs": [
    {
     "data": {
      "text/plain": [
       "array([[48010226.  ,    35000.  ,    35000.  ,       13.33,     1184.86,     9452.96],\n",
       "       [57693261.  ,    30000.  ,    30000.  , 68616520.  ,      938.57,     4679.7 ],\n",
       "       [59432726.  ,    15000.  ,    15000.  , 68616520.  ,      494.86,     1969.83],\n",
       "       ...,\n",
       "       [50415990.  ,    10000.  ,    10000.  , 68616520.  , 68616520.  ,     2185.64],\n",
       "       [46154151.  , 68616520.  ,    10000.  ,       16.55,      354.3 ,     3199.4 ],\n",
       "       [66055249.  ,    10000.  ,    10000.  , 68616520.  ,      309.97,      301.9 ]])"
      ]
     },
     "execution_count": 86,
     "metadata": {},
     "output_type": "execute_result"
    }
   ],
   "source": [
    "loan_data_num"
   ]
  },
  {
   "cell_type": "code",
   "execution_count": 87,
   "id": "447c5f0d",
   "metadata": {},
   "outputs": [
    {
     "data": {
      "text/plain": [
       "0"
      ]
     },
     "execution_count": 87,
     "metadata": {},
     "output_type": "execute_result"
    }
   ],
   "source": [
    "np.isnan(loan_data_num).sum()"
   ]
  },
  {
   "cell_type": "code",
   "execution_count": 88,
   "id": "f0314f08",
   "metadata": {},
   "outputs": [
    {
     "data": {
      "text/plain": [
       "array(['id', 'loan_amnt', 'funded_amnt', 'int_rate', 'installment', 'total_pymnt'], dtype='<U19')"
      ]
     },
     "execution_count": 88,
     "metadata": {},
     "output_type": "execute_result"
    }
   ],
   "source": [
    "header_num"
   ]
  },
  {
   "cell_type": "code",
   "execution_count": 89,
   "id": "6b2b707e",
   "metadata": {},
   "outputs": [
    {
     "data": {
      "text/plain": [
       "68616520.0"
      ]
     },
     "execution_count": 89,
     "metadata": {},
     "output_type": "execute_result"
    }
   ],
   "source": [
    "temporary_fill\n"
   ]
  },
  {
   "cell_type": "code",
   "execution_count": 90,
   "id": "852ed8a3",
   "metadata": {},
   "outputs": [
    {
     "data": {
      "text/plain": [
       "0"
      ]
     },
     "execution_count": 90,
     "metadata": {},
     "output_type": "execute_result"
    }
   ],
   "source": [
    "np.isin(loan_data_num[:,0],temporary_fill).sum()"
   ]
  },
  {
   "cell_type": "code",
   "execution_count": 91,
   "id": "3efb8455",
   "metadata": {},
   "outputs": [
    {
     "data": {
      "text/plain": [
       "array([[  373332.  ,     1000.  ,     1000.  ,        6.  ,       31.42,        0.  ],\n",
       "       [54015809.19,    15273.46,    15311.04,       16.62,      440.92,     3143.85],\n",
       "       [68616519.  ,    35000.  ,    35000.  ,       28.99,     1372.97,    41913.62]])"
      ]
     },
     "execution_count": 91,
     "metadata": {},
     "output_type": "execute_result"
    }
   ],
   "source": [
    "temp_stats[:,column_num]"
   ]
  },
  {
   "cell_type": "code",
   "execution_count": 92,
   "id": "7a5a7d8c",
   "metadata": {},
   "outputs": [
    {
     "data": {
      "text/plain": [
       "array(['id', 'loan_amnt', 'funded_amnt', 'int_rate', 'installment', 'total_pymnt'], dtype='<U19')"
      ]
     },
     "execution_count": 92,
     "metadata": {},
     "output_type": "execute_result"
    }
   ],
   "source": [
    "header_num"
   ]
  },
  {
   "cell_type": "code",
   "execution_count": 93,
   "id": "4d302c83",
   "metadata": {},
   "outputs": [
    {
     "data": {
      "text/plain": [
       "array([[  373332.  ,     1000.  ,     1000.  ,        6.  ,       31.42,        0.  ],\n",
       "       [54015809.19,    15273.46,    15311.04,       16.62,      440.92,     3143.85],\n",
       "       [68616519.  ,    35000.  ,    35000.  ,       28.99,     1372.97,    41913.62]])"
      ]
     },
     "execution_count": 93,
     "metadata": {},
     "output_type": "execute_result"
    }
   ],
   "source": [
    "temp_stats[:,column_num]"
   ]
  },
  {
   "cell_type": "code",
   "execution_count": 94,
   "id": "6f2f7b42",
   "metadata": {},
   "outputs": [
    {
     "data": {
      "text/plain": [
       "array([35000., 30000., 15000., ..., 10000., 10000., 10000.])"
      ]
     },
     "execution_count": 94,
     "metadata": {},
     "output_type": "execute_result"
    }
   ],
   "source": [
    "#Funded_amount(substituing min amount in place of a missing value)\n",
    "loan_data_num[:,2]"
   ]
  },
  {
   "cell_type": "code",
   "execution_count": 95,
   "id": "718c608f",
   "metadata": {
    "scrolled": true
   },
   "outputs": [],
   "source": [
    "loan_data_num[:,2]=np.where(loan_data_num[:,2]==temporary_fill,\n",
    "                           temp_stats[0,column_num[2]],\n",
    "                           loan_data_num[:,2])"
   ]
  },
  {
   "cell_type": "markdown",
   "id": "44622578",
   "metadata": {},
   "source": []
  },
  {
   "cell_type": "code",
   "execution_count": 96,
   "id": "23481c06",
   "metadata": {},
   "outputs": [
    {
     "data": {
      "text/plain": [
       "array([35000., 30000., 15000., ..., 10000., 10000., 10000.])"
      ]
     },
     "execution_count": 96,
     "metadata": {},
     "output_type": "execute_result"
    }
   ],
   "source": [
    "loan_data_num[:,2]"
   ]
  },
  {
   "cell_type": "code",
   "execution_count": 97,
   "id": "78cf19ca",
   "metadata": {},
   "outputs": [],
   "source": [
    "#substituing max amount in place of missing for [1,3,4,5]"
   ]
  },
  {
   "cell_type": "code",
   "execution_count": 98,
   "id": "00095ee2",
   "metadata": {},
   "outputs": [],
   "source": [
    "for i in [1,3,4,5]:\n",
    "    loan_data_num[:,i]=np.where(loan_data_num[:,i]==temporary_fill,\n",
    "                               temp_stats[2,column_num[i]],\n",
    "                                loan_data_num[:,i]\n",
    "                               )"
   ]
  },
  {
   "cell_type": "code",
   "execution_count": 99,
   "id": "af5f9c41",
   "metadata": {},
   "outputs": [
    {
     "data": {
      "text/plain": [
       "array([13.33, 28.99, 28.99, ..., 28.99, 16.55, 28.99])"
      ]
     },
     "execution_count": 99,
     "metadata": {},
     "output_type": "execute_result"
    }
   ],
   "source": [
    "loan_data_num[:,3]"
   ]
  },
  {
   "cell_type": "code",
   "execution_count": 100,
   "id": "0ea468d9",
   "metadata": {},
   "outputs": [
    {
     "data": {
      "text/plain": [
       "array(['id', 'loan_amnt', 'funded_amnt', 'int_rate', 'installment', 'total_pymnt'], dtype='<U19')"
      ]
     },
     "execution_count": 100,
     "metadata": {},
     "output_type": "execute_result"
    }
   ],
   "source": [
    "header_num"
   ]
  },
  {
   "cell_type": "code",
   "execution_count": 101,
   "id": "dc944cee",
   "metadata": {},
   "outputs": [
    {
     "data": {
      "text/plain": [
       "array([1.13, 1.12, 1.08, 1.11, 1.1 , 1.12, 1.09, 1.13, 1.13, 1.1 , 1.06, 1.09])"
      ]
     },
     "execution_count": 101,
     "metadata": {},
     "output_type": "execute_result"
    }
   ],
   "source": [
    "EUR_USD=np.genfromtxt(\"EUR-USD.csv\",delimiter=',',autostrip=True, skip_header=True, usecols=3)\n",
    "\n",
    "EUR_USD"
   ]
  },
  {
   "cell_type": "code",
   "execution_count": 102,
   "id": "3a04bdb6",
   "metadata": {
    "scrolled": true
   },
   "outputs": [
    {
     "data": {
      "text/plain": [
       "array(['issue_date', 'loan_status', 'term', 'sub_grade', 'verification_status', 'addr_state'],\n",
       "      dtype='<U19')"
      ]
     },
     "execution_count": 102,
     "metadata": {},
     "output_type": "execute_result"
    }
   ],
   "source": [
    "header_strings"
   ]
  },
  {
   "cell_type": "code",
   "execution_count": 103,
   "id": "59242b82",
   "metadata": {},
   "outputs": [
    {
     "data": {
      "text/plain": [
       "array([ 0,  1,  2,  3,  4,  5,  6,  7,  8,  9, 10, 11, 12])"
      ]
     },
     "execution_count": 103,
     "metadata": {},
     "output_type": "execute_result"
    }
   ],
   "source": [
    "np.unique(loan_data_strings[:,0])"
   ]
  },
  {
   "cell_type": "code",
   "execution_count": 104,
   "id": "085e38b9",
   "metadata": {},
   "outputs": [],
   "source": [
    "exchange_rate=loan_data_strings[:,0]\n",
    "for i in range(1,13):\n",
    "    exchange_rate=np.where(exchange_rate==i,\n",
    "                          EUR_USD[i-1],\n",
    "                          exchange_rate)\n",
    "for i in range(1,13):\n",
    "    exchange_rate=np.where(exchange_rate==0,\n",
    "                          np.mean(EUR_USD),\n",
    "                          exchange_rate)"
   ]
  },
  {
   "cell_type": "code",
   "execution_count": 105,
   "id": "a24b4171",
   "metadata": {},
   "outputs": [
    {
     "data": {
      "text/plain": [
       "(10000,)"
      ]
     },
     "execution_count": 105,
     "metadata": {},
     "output_type": "execute_result"
    }
   ],
   "source": [
    "exchange_rate.shape"
   ]
  },
  {
   "cell_type": "code",
   "execution_count": 106,
   "id": "2f24870d",
   "metadata": {},
   "outputs": [
    {
     "data": {
      "text/plain": [
       "array([[48010226.  ,    35000.  ,    35000.  ,       13.33,     1184.86,     9452.96],\n",
       "       [57693261.  ,    30000.  ,    30000.  ,       28.99,      938.57,     4679.7 ],\n",
       "       [59432726.  ,    15000.  ,    15000.  ,       28.99,      494.86,     1969.83],\n",
       "       ...,\n",
       "       [50415990.  ,    10000.  ,    10000.  ,       28.99,     1372.97,     2185.64],\n",
       "       [46154151.  ,    35000.  ,    10000.  ,       16.55,      354.3 ,     3199.4 ],\n",
       "       [66055249.  ,    10000.  ,    10000.  ,       28.99,      309.97,      301.9 ]])"
      ]
     },
     "execution_count": 106,
     "metadata": {},
     "output_type": "execute_result"
    }
   ],
   "source": [
    "loan_data_num"
   ]
  },
  {
   "cell_type": "code",
   "execution_count": 107,
   "id": "b306851e",
   "metadata": {},
   "outputs": [
    {
     "data": {
      "text/plain": [
       "array(['id', 'loan_amnt', 'funded_amnt', 'int_rate', 'installment', 'total_pymnt'], dtype='<U19')"
      ]
     },
     "execution_count": 107,
     "metadata": {},
     "output_type": "execute_result"
    }
   ],
   "source": [
    "header_num"
   ]
  },
  {
   "cell_type": "code",
   "execution_count": 108,
   "id": "01221dba",
   "metadata": {},
   "outputs": [
    {
     "data": {
      "text/plain": [
       "(10000, 6)"
      ]
     },
     "execution_count": 108,
     "metadata": {},
     "output_type": "execute_result"
    }
   ],
   "source": [
    "loan_data_num.shape"
   ]
  },
  {
   "cell_type": "code",
   "execution_count": 109,
   "id": "3101645b",
   "metadata": {},
   "outputs": [],
   "source": [
    "exchange_rate=np.reshape(exchange_rate,(10000,1))"
   ]
  },
  {
   "cell_type": "code",
   "execution_count": 110,
   "id": "56f23d90",
   "metadata": {},
   "outputs": [
    {
     "data": {
      "text/plain": [
       "array([[1.1 ],\n",
       "       [1.11],\n",
       "       [1.13],\n",
       "       ...,\n",
       "       [1.12],\n",
       "       [1.11],\n",
       "       [1.09]])"
      ]
     },
     "execution_count": 110,
     "metadata": {},
     "output_type": "execute_result"
    }
   ],
   "source": [
    "exchange_rate"
   ]
  },
  {
   "cell_type": "code",
   "execution_count": 111,
   "id": "cced7181",
   "metadata": {},
   "outputs": [
    {
     "data": {
      "text/plain": [
       "array([[48010226.  ,    35000.  ,    35000.  , ...,     1184.86,     9452.96,        1.1 ],\n",
       "       [57693261.  ,    30000.  ,    30000.  , ...,      938.57,     4679.7 ,        1.11],\n",
       "       [59432726.  ,    15000.  ,    15000.  , ...,      494.86,     1969.83,        1.13],\n",
       "       ...,\n",
       "       [50415990.  ,    10000.  ,    10000.  , ...,     1372.97,     2185.64,        1.12],\n",
       "       [46154151.  ,    35000.  ,    10000.  , ...,      354.3 ,     3199.4 ,        1.11],\n",
       "       [66055249.  ,    10000.  ,    10000.  , ...,      309.97,      301.9 ,        1.09]])"
      ]
     },
     "execution_count": 111,
     "metadata": {},
     "output_type": "execute_result"
    }
   ],
   "source": [
    "loan_data_num=np.hstack((loan_data_num,exchange_rate))\n",
    "loan_data_num"
   ]
  },
  {
   "cell_type": "code",
   "execution_count": null,
   "id": "aea115ca",
   "metadata": {},
   "outputs": [],
   "source": []
  },
  {
   "cell_type": "code",
   "execution_count": 112,
   "id": "17888749",
   "metadata": {},
   "outputs": [],
   "source": [
    "header_num=np.concatenate((header_num,np.array(['exchange_rate'])))"
   ]
  },
  {
   "cell_type": "code",
   "execution_count": 113,
   "id": "5d611ccb",
   "metadata": {},
   "outputs": [
    {
     "data": {
      "text/plain": [
       "array(['id', 'loan_amnt', 'funded_amnt', 'int_rate', 'installment', 'total_pymnt', 'exchange_rate'],\n",
       "      dtype='<U19')"
      ]
     },
     "execution_count": 113,
     "metadata": {},
     "output_type": "execute_result"
    }
   ],
   "source": [
    "header_num"
   ]
  },
  {
   "cell_type": "code",
   "execution_count": 114,
   "id": "ca8cbdc2",
   "metadata": {},
   "outputs": [],
   "source": [
    "columns_dollar=[1,2,4,5]\n",
    "for i in columns_dollar:\n",
    "    loan_data_num=np.hstack((loan_data_num,np.reshape(loan_data_num[:,i]/loan_data_num[:,6],(10000,1))))"
   ]
  },
  {
   "cell_type": "code",
   "execution_count": 115,
   "id": "a1414c04",
   "metadata": {},
   "outputs": [
    {
     "data": {
      "text/plain": [
       "array([[48010226.  ,    35000.  ,    35000.  , ...,    31933.3 ,     1081.04,     8624.69],\n",
       "       [57693261.  ,    30000.  ,    30000.  , ...,    27132.46,      848.86,     4232.39],\n",
       "       [59432726.  ,    15000.  ,    15000.  , ...,    13326.3 ,      439.64,     1750.04],\n",
       "       ...,\n",
       "       [50415990.  ,    10000.  ,    10000.  , ...,     8910.3 ,     1223.36,     1947.47],\n",
       "       [46154151.  ,    35000.  ,    10000.  , ...,     8997.4 ,      318.78,     2878.63],\n",
       "       [66055249.  ,    10000.  ,    10000.  , ...,     9145.8 ,      283.49,      276.11]])"
      ]
     },
     "execution_count": 115,
     "metadata": {},
     "output_type": "execute_result"
    }
   ],
   "source": [
    "loan_data_num"
   ]
  },
  {
   "cell_type": "code",
   "execution_count": 116,
   "id": "4f04b47b",
   "metadata": {},
   "outputs": [],
   "source": [
    "header_additional=np.array([column_name+'_EUR' for column_name in header_num[columns_dollar]])"
   ]
  },
  {
   "cell_type": "code",
   "execution_count": 117,
   "id": "5e47d58e",
   "metadata": {},
   "outputs": [
    {
     "data": {
      "text/plain": [
       "array(['loan_amnt_EUR', 'funded_amnt_EUR', 'installment_EUR', 'total_pymnt_EUR'], dtype='<U15')"
      ]
     },
     "execution_count": 117,
     "metadata": {},
     "output_type": "execute_result"
    }
   ],
   "source": [
    "header_additional\n"
   ]
  },
  {
   "cell_type": "code",
   "execution_count": 118,
   "id": "3fc04cc5",
   "metadata": {},
   "outputs": [],
   "source": [
    "header_num=np.concatenate((header_num,header_additional))"
   ]
  },
  {
   "cell_type": "code",
   "execution_count": 119,
   "id": "985e99b4",
   "metadata": {},
   "outputs": [
    {
     "data": {
      "text/plain": [
       "array(['id', 'loan_amnt', 'funded_amnt', 'int_rate', 'installment', 'total_pymnt', 'exchange_rate',\n",
       "       'loan_amnt_EUR', 'funded_amnt_EUR', 'installment_EUR', 'total_pymnt_EUR'], dtype='<U19')"
      ]
     },
     "execution_count": 119,
     "metadata": {},
     "output_type": "execute_result"
    }
   ],
   "source": [
    "header_num"
   ]
  },
  {
   "cell_type": "code",
   "execution_count": 120,
   "id": "96c12b08",
   "metadata": {},
   "outputs": [],
   "source": [
    "dollar_headers=[1,2,4,5]\n",
    "header_num[dollar_headers]=np.array([column_name+'_USD' for column_name in header_num[dollar_headers]])"
   ]
  },
  {
   "cell_type": "code",
   "execution_count": 121,
   "id": "39fe1285",
   "metadata": {},
   "outputs": [
    {
     "data": {
      "text/plain": [
       "array(['id', 'loan_amnt_USD', 'funded_amnt_USD', 'int_rate', 'installment_USD', 'total_pymnt_USD',\n",
       "       'exchange_rate', 'loan_amnt_EUR', 'funded_amnt_EUR', 'installment_EUR', 'total_pymnt_EUR'],\n",
       "      dtype='<U19')"
      ]
     },
     "execution_count": 121,
     "metadata": {},
     "output_type": "execute_result"
    }
   ],
   "source": [
    "header_num"
   ]
  },
  {
   "cell_type": "code",
   "execution_count": 123,
   "id": "93c43816",
   "metadata": {},
   "outputs": [],
   "source": [
    "column_index_order=[0,1,7,2,8,3,4,9,5,10,6]"
   ]
  },
  {
   "cell_type": "code",
   "execution_count": 124,
   "id": "27b2d455",
   "metadata": {},
   "outputs": [
    {
     "data": {
      "text/plain": [
       "array(['id', 'loan_amnt_USD', 'loan_amnt_EUR', 'funded_amnt_USD', 'funded_amnt_EUR', 'int_rate',\n",
       "       'installment_USD', 'installment_EUR', 'total_pymnt_USD', 'total_pymnt_EUR', 'exchange_rate'],\n",
       "      dtype='<U19')"
      ]
     },
     "execution_count": 124,
     "metadata": {},
     "output_type": "execute_result"
    }
   ],
   "source": [
    "header_num[column_index_order]"
   ]
  },
  {
   "cell_type": "code",
   "execution_count": 126,
   "id": "0603de33",
   "metadata": {},
   "outputs": [],
   "source": [
    "loan_data_num=loan_data_num[:,column_index_order]"
   ]
  },
  {
   "cell_type": "code",
   "execution_count": 127,
   "id": "b89801f0",
   "metadata": {},
   "outputs": [
    {
     "data": {
      "text/plain": [
       "array([[48010226.  ,    35000.  ,    31933.3 , ...,     9452.96,     8624.69,        1.1 ],\n",
       "       [57693261.  ,    30000.  ,    27132.46, ...,     4679.7 ,     4232.39,        1.11],\n",
       "       [59432726.  ,    15000.  ,    13326.3 , ...,     1969.83,     1750.04,        1.13],\n",
       "       ...,\n",
       "       [50415990.  ,    10000.  ,     8910.3 , ...,     2185.64,     1947.47,        1.12],\n",
       "       [46154151.  ,    35000.  ,    31490.9 , ...,     3199.4 ,     2878.63,        1.11],\n",
       "       [66055249.  ,    10000.  ,     9145.8 , ...,      301.9 ,      276.11,        1.09]])"
      ]
     },
     "execution_count": 127,
     "metadata": {},
     "output_type": "execute_result"
    }
   ],
   "source": [
    "loan_data_num"
   ]
  },
  {
   "cell_type": "code",
   "execution_count": 130,
   "id": "d143154a",
   "metadata": {},
   "outputs": [],
   "source": [
    "#interest\n",
    "loan_data_num[:,5]=loan_data_num[:,5]/100"
   ]
  },
  {
   "cell_type": "code",
   "execution_count": 131,
   "id": "9034aa96",
   "metadata": {},
   "outputs": [
    {
     "data": {
      "text/plain": [
       "array([0.13, 0.29, 0.29, ..., 0.29, 0.17, 0.29])"
      ]
     },
     "execution_count": 131,
     "metadata": {},
     "output_type": "execute_result"
    }
   ],
   "source": [
    "loan_data_num[:,5]"
   ]
  },
  {
   "cell_type": "raw",
   "id": "cf091e50",
   "metadata": {},
   "source": [
    "Checkpoint numeric"
   ]
  },
  {
   "cell_type": "code",
   "execution_count": 133,
   "id": "42a3edd7",
   "metadata": {},
   "outputs": [],
   "source": [
    "checkpoint_numeric=checkpoint(\"Checkpoint-Numeric\",header_num,loan_data_num)"
   ]
  },
  {
   "cell_type": "code",
   "execution_count": 136,
   "id": "70ed858e",
   "metadata": {},
   "outputs": [
    {
     "data": {
      "text/plain": [
       "(10000, 11)"
      ]
     },
     "execution_count": 136,
     "metadata": {},
     "output_type": "execute_result"
    }
   ],
   "source": [
    "#completing Dataset and generating final CSV\n",
    "checkpoint_numeric['data'].shape"
   ]
  },
  {
   "cell_type": "code",
   "execution_count": 138,
   "id": "eeaac637",
   "metadata": {},
   "outputs": [
    {
     "data": {
      "text/plain": [
       "(10000, 6)"
      ]
     },
     "execution_count": 138,
     "metadata": {},
     "output_type": "execute_result"
    }
   ],
   "source": [
    "checkpoint_strings['data'].shape"
   ]
  },
  {
   "cell_type": "code",
   "execution_count": null,
   "id": "7c1c783e",
   "metadata": {},
   "outputs": [],
   "source": []
  },
  {
   "cell_type": "code",
   "execution_count": 140,
   "id": "17ecf635",
   "metadata": {},
   "outputs": [],
   "source": [
    "loan_data=np.hstack((checkpoint_numeric['data'],checkpoint_strings['data']))"
   ]
  },
  {
   "cell_type": "code",
   "execution_count": 141,
   "id": "4d468054",
   "metadata": {},
   "outputs": [
    {
     "data": {
      "text/plain": [
       "array([[48010226.  ,    35000.  ,    31933.3 , ...,       13.  ,        1.  ,        1.  ],\n",
       "       [57693261.  ,    30000.  ,    27132.46, ...,        5.  ,        1.  ,        4.  ],\n",
       "       [59432726.  ,    15000.  ,    13326.3 , ...,       10.  ,        1.  ,        4.  ],\n",
       "       ...,\n",
       "       [50415990.  ,    10000.  ,     8910.3 , ...,        5.  ,        1.  ,        1.  ],\n",
       "       [46154151.  ,    35000.  ,    31490.9 , ...,       17.  ,        1.  ,        3.  ],\n",
       "       [66055249.  ,    10000.  ,     9145.8 , ...,        4.  ,        0.  ,        3.  ]])"
      ]
     },
     "execution_count": 141,
     "metadata": {},
     "output_type": "execute_result"
    }
   ],
   "source": [
    "loan_data"
   ]
  },
  {
   "cell_type": "code",
   "execution_count": 143,
   "id": "3660c5df",
   "metadata": {},
   "outputs": [
    {
     "data": {
      "text/plain": [
       "0"
      ]
     },
     "execution_count": 143,
     "metadata": {},
     "output_type": "execute_result"
    }
   ],
   "source": [
    "np.isnan(loan_data).sum()"
   ]
  },
  {
   "cell_type": "code",
   "execution_count": 146,
   "id": "5bbf5788",
   "metadata": {},
   "outputs": [],
   "source": [
    "header_full=np.concatenate((checkpoint_numeric['header'],checkpoint_strings['header']))"
   ]
  },
  {
   "cell_type": "code",
   "execution_count": 147,
   "id": "64456479",
   "metadata": {},
   "outputs": [
    {
     "data": {
      "text/plain": [
       "array(['id', 'loan_amnt_USD', 'funded_amnt_USD', 'int_rate', 'installment_USD', 'total_pymnt_USD',\n",
       "       'exchange_rate', 'loan_amnt_EUR', 'funded_amnt_EUR', 'installment_EUR', 'total_pymnt_EUR',\n",
       "       'issue_date', 'loan_status', 'term', 'sub_grade', 'verification_status', 'addr_state'],\n",
       "      dtype='<U19')"
      ]
     },
     "execution_count": 147,
     "metadata": {},
     "output_type": "execute_result"
    }
   ],
   "source": [
    "header_full"
   ]
  },
  {
   "cell_type": "code",
   "execution_count": 149,
   "id": "896f02b5",
   "metadata": {},
   "outputs": [],
   "source": [
    "loan_data=loan_data[np.argsort(loan_data[:,0])]"
   ]
  },
  {
   "cell_type": "code",
   "execution_count": 150,
   "id": "193d681a",
   "metadata": {},
   "outputs": [
    {
     "data": {
      "text/plain": [
       "array([   0,    1,    2, ..., 9997, 9998, 9999], dtype=int64)"
      ]
     },
     "execution_count": 150,
     "metadata": {},
     "output_type": "execute_result"
    }
   ],
   "source": [
    "np.argsort(loan_data[:,0])"
   ]
  },
  {
   "cell_type": "code",
   "execution_count": 154,
   "id": "36cae806",
   "metadata": {},
   "outputs": [],
   "source": [
    "loan_data=np.vstack((header_full,loan_data))"
   ]
  },
  {
   "cell_type": "code",
   "execution_count": 155,
   "id": "0a9fa592",
   "metadata": {},
   "outputs": [],
   "source": [
    "np.savetxt(\"loan-data-preprocessed.csv\",loan_data,fmt=\"%s\",delimiter=',')"
   ]
  },
  {
   "cell_type": "code",
   "execution_count": null,
   "id": "83f8967b",
   "metadata": {},
   "outputs": [],
   "source": []
  },
  {
   "cell_type": "code",
   "execution_count": null,
   "id": "d7426ff7",
   "metadata": {},
   "outputs": [],
   "source": []
  }
 ],
 "metadata": {
  "kernelspec": {
   "display_name": "Python 3 (ipykernel)",
   "language": "python",
   "name": "python3"
  },
  "language_info": {
   "codemirror_mode": {
    "name": "ipython",
    "version": 3
   },
   "file_extension": ".py",
   "mimetype": "text/x-python",
   "name": "python",
   "nbconvert_exporter": "python",
   "pygments_lexer": "ipython3",
   "version": "3.9.7"
  }
 },
 "nbformat": 4,
 "nbformat_minor": 5
}
